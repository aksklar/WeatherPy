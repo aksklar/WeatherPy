{
 "cells": [
  {
   "cell_type": "markdown",
   "metadata": {},
   "source": [
    "# WeatherPy\n",
    "In this example, you'll be creating a Python script to visualize the weather of 500+ cities across the world of varying distance from the equator. To accomplish this, you'll be utilizing a simple Python library, the OpenWeatherMap API, and a little common sense to create a representative model of weather across world cities.\n",
    "\n",
    "Your objective is to build a series of scatter plots to showcase the following relationships:\n",
    "\n",
    "1) Temperature (F) vs. Latitude\n",
    "2) Humidity (%) vs. Latitude\n",
    "3) Cloudiness (%) vs. Latitude\n",
    "4) Wind Speed (mph) vs. Latitude\n",
    "\n",
    "Your final notebook must:\n",
    "\n",
    "1) Randomly select at least 500 unique (non-repeat) cities based on latitude and longitude.\n",
    "2) Perform a weather check on each of the cities using a series of successive      API calls.\n",
    "3) Include a print log of each city as it's being processed with the city          number, city name, and requested URL.\n",
    "4) You must use the Matplotlib and Seaborn libraries."
   ]
  },
  {
   "cell_type": "code",
   "execution_count": 22,
   "metadata": {
    "collapsed": true
   },
   "outputs": [],
   "source": [
    "import matplotlib.pyplot as plt\n",
    "import seaborn as sns\n",
    "import requests\n",
    "import pandas as pd\n",
    "import numpy as np\n",
    "import json\n",
    "import openweathermapy.core as owm\n",
    "from citipy import citipy\n",
    "from pprint import pprint\n",
    "from owm_config import api_key"
   ]
  },
  {
   "cell_type": "markdown",
   "metadata": {},
   "source": [
    "## Generate Cities List"
   ]
  },
  {
   "cell_type": "code",
   "execution_count": 24,
   "metadata": {},
   "outputs": [
    {
     "data": {
      "text/html": [
       "<div>\n",
       "<style>\n",
       "    .dataframe thead tr:only-child th {\n",
       "        text-align: right;\n",
       "    }\n",
       "\n",
       "    .dataframe thead th {\n",
       "        text-align: left;\n",
       "    }\n",
       "\n",
       "    .dataframe tbody tr th {\n",
       "        vertical-align: top;\n",
       "    }\n",
       "</style>\n",
       "<table border=\"1\" class=\"dataframe\">\n",
       "  <thead>\n",
       "    <tr style=\"text-align: right;\">\n",
       "      <th></th>\n",
       "      <th>City</th>\n",
       "      <th>Country</th>\n",
       "      <th>Latitude</th>\n",
       "      <th>Longitude</th>\n",
       "    </tr>\n",
       "  </thead>\n",
       "  <tbody>\n",
       "    <tr>\n",
       "      <th>0</th>\n",
       "      <td>port blair</td>\n",
       "      <td>in</td>\n",
       "      <td>11.208991</td>\n",
       "      <td>89.846366</td>\n",
       "    </tr>\n",
       "    <tr>\n",
       "      <th>1</th>\n",
       "      <td>los llanos de aridane</td>\n",
       "      <td>es</td>\n",
       "      <td>25.898715</td>\n",
       "      <td>-23.337020</td>\n",
       "    </tr>\n",
       "    <tr>\n",
       "      <th>2</th>\n",
       "      <td>nome</td>\n",
       "      <td>us</td>\n",
       "      <td>72.161535</td>\n",
       "      <td>-165.499966</td>\n",
       "    </tr>\n",
       "    <tr>\n",
       "      <th>3</th>\n",
       "      <td>chuy</td>\n",
       "      <td>uy</td>\n",
       "      <td>-58.982487</td>\n",
       "      <td>-27.202682</td>\n",
       "    </tr>\n",
       "    <tr>\n",
       "      <th>4</th>\n",
       "      <td>albany</td>\n",
       "      <td>au</td>\n",
       "      <td>-82.558798</td>\n",
       "      <td>110.471782</td>\n",
       "    </tr>\n",
       "  </tbody>\n",
       "</table>\n",
       "</div>"
      ],
      "text/plain": [
       "                    City Country   Latitude   Longitude\n",
       "0             port blair      in  11.208991   89.846366\n",
       "1  los llanos de aridane      es  25.898715  -23.337020\n",
       "2                   nome      us  72.161535 -165.499966\n",
       "3                   chuy      uy -58.982487  -27.202682\n",
       "4                 albany      au -82.558798  110.471782"
      ]
     },
     "execution_count": 24,
     "metadata": {},
     "output_type": "execute_result"
    }
   ],
   "source": [
    "# Create empty data frame and add columns for city, country, latitude and longitude\n",
    "cities_list = pd.DataFrame()\n",
    "cities_list[\"City\"] = \"\"\n",
    "cities_list[\"Country\"] = \"\"\n",
    "# Randomly generate numbers for latitude and longitude and loop through 500 times\n",
    "cities_list[\"Latitude\"] = [np.random.uniform(-90, 90) for x in range(5)]\n",
    "cities_list[\"Longitude\"] = [np.random.uniform(-180, 180) for x in range(5)]\n",
    "# Use latitude and longitude to find city and country by using interrows and citipy\n",
    "for index, row in cities_list.iterrows():\n",
    "    lat = row[\"Latitude\"]\n",
    "    lng = row[\"Longitude\"]\n",
    "    cities_list.set_value(index, \"City\", citipy.nearest_city(lat, lng).city_name)\n",
    "    cities_list.set_value(index, \"Country\", citipy.nearest_city(lat, lng).country_code)\n",
    "\n",
    "cities_list"
   ]
  },
  {
   "cell_type": "markdown",
   "metadata": {},
   "source": [
    "## Perform API Calls"
   ]
  },
  {
   "cell_type": "code",
   "execution_count": 68,
   "metadata": {},
   "outputs": [
    {
     "name": "stdout",
     "output_type": "stream",
     "text": [
      "http://api.openweathermap.org/data/2.5/weather?appid=bc077df1e512a26037948a356f243d3d&units=imperial&q=port%20blair,in\n",
      "http://api.openweathermap.org/data/2.5/weather?appid=bc077df1e512a26037948a356f243d3d&units=imperial&q=los%20llanos%20de%20aridane,es\n",
      "http://api.openweathermap.org/data/2.5/weather?appid=bc077df1e512a26037948a356f243d3d&units=imperial&q=nome,us\n",
      "http://api.openweathermap.org/data/2.5/weather?appid=bc077df1e512a26037948a356f243d3d&units=imperial&q=chuy,uy\n",
      "http://api.openweathermap.org/data/2.5/weather?appid=bc077df1e512a26037948a356f243d3d&units=imperial&q=albany,au\n"
     ]
    },
    {
     "data": {
      "text/html": [
       "<div>\n",
       "<style>\n",
       "    .dataframe thead tr:only-child th {\n",
       "        text-align: right;\n",
       "    }\n",
       "\n",
       "    .dataframe thead th {\n",
       "        text-align: left;\n",
       "    }\n",
       "\n",
       "    .dataframe tbody tr th {\n",
       "        vertical-align: top;\n",
       "    }\n",
       "</style>\n",
       "<table border=\"1\" class=\"dataframe\">\n",
       "  <thead>\n",
       "    <tr style=\"text-align: right;\">\n",
       "      <th></th>\n",
       "      <th>City</th>\n",
       "      <th>Country</th>\n",
       "      <th>Latitude</th>\n",
       "      <th>Longitude</th>\n",
       "      <th>Temperature</th>\n",
       "      <th>Humidity</th>\n",
       "      <th>Cloudiness</th>\n",
       "      <th>Wind Speed</th>\n",
       "    </tr>\n",
       "  </thead>\n",
       "  <tbody>\n",
       "    <tr>\n",
       "      <th>0</th>\n",
       "      <td>port blair</td>\n",
       "      <td>in</td>\n",
       "      <td>11.67</td>\n",
       "      <td>92.75</td>\n",
       "      <td>83.04</td>\n",
       "      <td>100</td>\n",
       "      <td>0</td>\n",
       "      <td>4.88</td>\n",
       "    </tr>\n",
       "    <tr>\n",
       "      <th>1</th>\n",
       "      <td>los llanos de aridane</td>\n",
       "      <td>es</td>\n",
       "      <td>28.66</td>\n",
       "      <td>-17.92</td>\n",
       "      <td>69.8</td>\n",
       "      <td>43</td>\n",
       "      <td>90</td>\n",
       "      <td>4.7</td>\n",
       "    </tr>\n",
       "    <tr>\n",
       "      <th>2</th>\n",
       "      <td>nome</td>\n",
       "      <td>us</td>\n",
       "      <td>30.04</td>\n",
       "      <td>-94.42</td>\n",
       "      <td>55.36</td>\n",
       "      <td>82</td>\n",
       "      <td>1</td>\n",
       "      <td>9.01</td>\n",
       "    </tr>\n",
       "    <tr>\n",
       "      <th>3</th>\n",
       "      <td>chuy</td>\n",
       "      <td>uy</td>\n",
       "      <td>-33.69</td>\n",
       "      <td>-53.46</td>\n",
       "      <td>66.61</td>\n",
       "      <td>93</td>\n",
       "      <td>12</td>\n",
       "      <td>6.22</td>\n",
       "    </tr>\n",
       "    <tr>\n",
       "      <th>4</th>\n",
       "      <td>albany</td>\n",
       "      <td>au</td>\n",
       "      <td>42.65</td>\n",
       "      <td>-73.75</td>\n",
       "      <td>31.89</td>\n",
       "      <td>80</td>\n",
       "      <td>90</td>\n",
       "      <td>10.29</td>\n",
       "    </tr>\n",
       "  </tbody>\n",
       "</table>\n",
       "</div>"
      ],
      "text/plain": [
       "                    City Country  Latitude  Longitude Temperature Humidity  \\\n",
       "0             port blair      in     11.67      92.75       83.04      100   \n",
       "1  los llanos de aridane      es     28.66     -17.92        69.8       43   \n",
       "2                   nome      us     30.04     -94.42       55.36       82   \n",
       "3                   chuy      uy    -33.69     -53.46       66.61       93   \n",
       "4                 albany      au     42.65     -73.75       31.89       80   \n",
       "\n",
       "  Cloudiness Wind Speed  \n",
       "0          0       4.88  \n",
       "1         90        4.7  \n",
       "2          1       9.01  \n",
       "3         12       6.22  \n",
       "4         90      10.29  "
      ]
     },
     "execution_count": 68,
     "metadata": {},
     "output_type": "execute_result"
    }
   ],
   "source": [
    "# Perform API calls and display results in Data Frame\n",
    "cities_list[\"Temperature\"] = \"\"\n",
    "cities_list[\"Humidity\"] = \"\"\n",
    "cities_list[\"Cloudiness\"] = \"\"\n",
    "cities_list[\"Wind Speed\"] = \"\"\n",
    "# Create a dictionary with parameters\n",
    "settings = {\"appid\": api_key, \"units\": \"imperial\"}\n",
    "# Create query url\n",
    "query_url = f\"{base_url}appid={settings['appid']}&units={settings['units']}&q=\"\n",
    "# Iterrows in to loop city row in query url\n",
    "print(\"Beginning Data Retrieval\")\n",
    "print(\"---------------------------\")\n",
    "for index, row in cities_list.iterrows():\n",
    "    cities_response = requests.get(query_url + row[\"City\"] + \",\" + row[\"Country\"])\n",
    "    print(cities_response.url)\n",
    "    \n",
    "    # Turn cities response into json with owm module\n",
    "    cities_response = owm.get_current(row[\"City\"], **settings)\n",
    "    \n",
    "    # Create summary variables to retrieve certain data from cities response\n",
    "    lat_summary = [\"coord.lat\"]\n",
    "    lon_summary = [\"coord.lon\"]\n",
    "    temp_summary = [\"main.temp\"]\n",
    "    humidity_summary = [\"main.humidity\"]\n",
    "    cloud_summary = [\"clouds.all\"]\n",
    "    wind_summary = [\"wind.speed\"]\n",
    "    \n",
    "    # Add retrieved data into cities_list data frame\n",
    "    cities_list.set_value(index, \"Latitude\", cities_response(*lat_summary))\n",
    "    cities_list.set_value(index, \"Longitude\", cities_response(*lon_summary))\n",
    "    cities_list.set_value(index, \"Temperature\", cities_response(*temp_summary))\n",
    "    cities_list.set_value(index, \"Humidity\", cities_response(*humidity_summary))\n",
    "    cities_list.set_value(index, \"Cloudiness\", cities_response(*cloud_summary))\n",
    "    cities_list.set_value(index, \"Wind Speed\", cities_response(*wind_summary))\n",
    "\n",
    "print(\"---------------------------\")\n",
    "print(\"Data Retrieval Complete\")\n",
    "print(\"---------------------------\")\n",
    "\n",
    "cities_list"
   ]
  },
  {
   "cell_type": "code",
   "execution_count": 73,
   "metadata": {},
   "outputs": [],
   "source": [
    "# # Perform API calls and display results in Data Frame\n",
    "# cities_list[\"Temperature\"] = \"\"\n",
    "# cities_list[\"Humidity\"] = \"\"\n",
    "# cities_list[\"Cloudiness\"] = \"\"\n",
    "# cities_list[\"Wind Speed\"] = \"\"\n",
    "# # Assign variables and build query url\n",
    "# base_url = \"http://api.openweathermap.org/data/2.5/weather?\"\n",
    "# appid = api_key\n",
    "# units = \"imperial\"\n",
    "# query_url = f\"{base_url}appid={api_key}&units={units}&q=\"\n",
    "# # Iterrows in to loop city row in query url\n",
    "# print(\"Beginning Data Retrieval\")\n",
    "# print(\"---------------------------\")\n",
    "# for index, row in cities_list.iterrows():\n",
    "#     cities_response = requests.get(query_url + row[\"City\"] + \",\" + row[\"Country\"])\n",
    "#     print(cities_response.url)\n",
    "#     # turn into json\n",
    "#     cities_response = cities_response.json()\n",
    "    \n",
    "#     cities_list.set_value(index, \"Latitude\", cities_response[\"coord\"][\"lat\"])\n",
    "#     cities_list.set_value(index, \"Longitude\", cities_response[\"coord\"][\"lon\"])\n",
    "#     cities_list.set_value(index, \"Temperature\", cities_response[\"main\"][\"temp\"])\n",
    "#     cities_list.set_value(index, \"Humidity\", cities_response[\"main\"][\"humidity\"])\n",
    "#     cities_list.set_value(index, \"Cloudiness\", cities_response[\"clouds\"][\"all\"])\n",
    "#     cities_list.set_value(index, \"Wind Speed\", cities_response[\"wind\"][\"speed\"])\n",
    "\n",
    "# print(\"---------------------------\")\n",
    "# print(\"Data Retrieval Complete\")\n",
    "# print(\"---------------------------\")\n",
    "\n",
    "# cities_list"
   ]
  },
  {
   "cell_type": "markdown",
   "metadata": {},
   "source": [
    "## Latitude vs Temperature Plot"
   ]
  },
  {
   "cell_type": "code",
   "execution_count": null,
   "metadata": {
    "collapsed": true
   },
   "outputs": [],
   "source": [
    "# Temperature (F) vs. Latitude"
   ]
  },
  {
   "cell_type": "markdown",
   "metadata": {},
   "source": [
    "## Latitude vs Humidity Plot"
   ]
  },
  {
   "cell_type": "code",
   "execution_count": 6,
   "metadata": {
    "collapsed": true
   },
   "outputs": [],
   "source": [
    "# Humidity (%) vs. Latitude"
   ]
  },
  {
   "cell_type": "markdown",
   "metadata": {},
   "source": [
    "## Latitude vs Cloudiness Plot"
   ]
  },
  {
   "cell_type": "code",
   "execution_count": 7,
   "metadata": {
    "collapsed": true
   },
   "outputs": [],
   "source": [
    "# Cloudiness (%) vs. Latitude"
   ]
  },
  {
   "cell_type": "markdown",
   "metadata": {},
   "source": [
    "## Latitude vs Wind Speed Plot"
   ]
  },
  {
   "cell_type": "code",
   "execution_count": null,
   "metadata": {
    "collapsed": true
   },
   "outputs": [],
   "source": [
    "# Wind Speed (mph) vs. Latitude"
   ]
  }
 ],
 "metadata": {
  "kernelspec": {
   "display_name": "Python [conda env:PythonData2]",
   "language": "python",
   "name": "conda-env-PythonData2-py"
  },
  "language_info": {
   "codemirror_mode": {
    "name": "ipython",
    "version": 3
   },
   "file_extension": ".py",
   "mimetype": "text/x-python",
   "name": "python",
   "nbconvert_exporter": "python",
   "pygments_lexer": "ipython3",
   "version": "3.6.3"
  }
 },
 "nbformat": 4,
 "nbformat_minor": 2
}
